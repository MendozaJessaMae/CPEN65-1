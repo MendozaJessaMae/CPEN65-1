{
  "cells": [
    {
      "cell_type": "markdown",
      "metadata": {
        "id": "view-in-github",
        "colab_type": "text"
      },
      "source": [
        "<a href=\"https://colab.research.google.com/github/MendozaJessaMae/CPEN65-1/blob/main/Prelims%20Codes.ipynb\" target=\"_parent\"><img src=\"https://colab.research.google.com/assets/colab-badge.svg\" alt=\"Open In Colab\"/></a>"
      ]
    },
    {
      "cell_type": "code",
      "source": [
        "class Person:\n",
        "  def __init__(self, name, age):\n",
        "    self.name = name\n",
        "    self.age = age\n",
        "\n",
        "person = Person(\"Ana\",39)\n",
        "print(person.name)\n",
        "print(person.age)"
      ],
      "metadata": {
        "id": "Po2Vp-XZ5Dyg",
        "outputId": "7c82f4d2-33e5-43d5-f19c-84b804d0f6a7",
        "colab": {
          "base_uri": "https://localhost:8080/"
        }
      },
      "execution_count": 2,
      "outputs": [
        {
          "output_type": "stream",
          "name": "stdout",
          "text": [
            "Ana\n",
            "39\n"
          ]
        }
      ]
    },
    {
      "cell_type": "code",
      "source": [
        "class Rectangle:\n",
        "  def __init__(self,length,width):\n",
        "    self.length = length\n",
        "    self.width = width\n",
        "\n",
        "  def Area(self):\n",
        "    print(self.length * self.width)\n",
        "\n",
        "rect = Rectangle(7, 3)\n",
        "rect.Area()"
      ],
      "metadata": {
        "id": "7GH8xIbp67NG",
        "outputId": "30cc1662-e514-42d1-9379-576354319424",
        "colab": {
          "base_uri": "https://localhost:8080/"
        }
      },
      "execution_count": 3,
      "outputs": [
        {
          "output_type": "stream",
          "name": "stdout",
          "text": [
            "21\n"
          ]
        }
      ]
    }
  ],
  "metadata": {
    "colab": {
      "collapsed_sections": [],
      "name": "Welcome To Colaboratory",
      "provenance": [],
      "include_colab_link": true
    },
    "kernelspec": {
      "display_name": "Python 3",
      "name": "python3"
    }
  },
  "nbformat": 4,
  "nbformat_minor": 0
}