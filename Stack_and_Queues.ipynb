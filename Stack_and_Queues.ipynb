{
  "cells": [
    {
      "cell_type": "markdown",
      "metadata": {
        "id": "view-in-github",
        "colab_type": "text"
      },
      "source": [
        "<a href=\"https://colab.research.google.com/github/MendozaJessaMae/CPEN65-1/blob/main/Stack_and_Queues.ipynb\" target=\"_parent\"><img src=\"https://colab.research.google.com/assets/colab-badge.svg\" alt=\"Open In Colab\"/></a>"
      ]
    },
    {
      "cell_type": "code",
      "source": [
        "class Stack:\n",
        "  def __init__(self):\n",
        "    self.stack = []\n",
        "\n",
        "  def push(self,dataval):\n",
        "    if  dataval not in self.stack:\n",
        "      return self.stack.append(dataval)\n",
        "    else:\n",
        "      return False\n",
        "  def pop(self):\n",
        "    if len(self.stack)<=0:\n",
        "      return(\"No element in the stack\")\n",
        "    else:\n",
        "      return self.stack.pop()\n",
        "\n",
        "AStack = Stack()\n",
        "AStack.push(\"A\")\n",
        "AStack.push(\"B\")\n",
        "AStack.push(\"C\")\n",
        "print(AStack.stack)\n",
        "AStack.pop()\n",
        "AStack.pop()\n",
        "print(AStack.stack)"
      ],
      "metadata": {
        "colab": {
          "base_uri": "https://localhost:8080/"
        },
        "id": "qZkgKg84nlaE",
        "outputId": "abe345bb-df8b-4c8d-aa98-501c76127fa2"
      },
      "execution_count": 2,
      "outputs": [
        {
          "output_type": "stream",
          "name": "stdout",
          "text": [
            "['A', 'B', 'C']\n",
            "['A']\n"
          ]
        }
      ]
    },
    {
      "cell_type": "code",
      "source": [
        "#Application 1\n",
        "\n",
        "#Implement the above program by Queues Data Structure (enqueue and dequeue/FIFO principle)\n",
        "class Queue:\n",
        "  def __init__(self):\n",
        "    self.queue = []\n",
        "\n",
        "  def enqueue(self, data):\n",
        "    self.queue.append(data)\n",
        "\n",
        "  def dequeue(self):\n",
        "    if len(self.queue)==0:\n",
        "      return(\"No element in the queue\")\n",
        "    else:\n",
        "      return self.queue.pop(0)\n",
        "\n",
        "Aqueue = Queue()\n",
        "Aqueue.enqueue(\"A\")\n",
        "Aqueue.enqueue(\"B\")\n",
        "Aqueue.enqueue(\"C\")\n",
        "Aqueue.enqueue(\"D\")\n",
        "print(Aqueue.queue)\n",
        "Aqueue.dequeue()\n",
        "Aqueue.dequeue()\n",
        "print(Aqueue.queue)\n"
      ],
      "metadata": {
        "colab": {
          "base_uri": "https://localhost:8080/"
        },
        "id": "REHuAfxmqZ1t",
        "outputId": "fdf5bcb2-c47f-4827-a194-71821d88a555"
      },
      "execution_count": 8,
      "outputs": [
        {
          "output_type": "stream",
          "name": "stdout",
          "text": [
            "['A', 'B', 'C', 'D']\n",
            "['C', 'D']\n"
          ]
        }
      ]
    }
  ],
  "metadata": {
    "colab": {
      "provenance": [],
      "include_colab_link": true
    },
    "kernelspec": {
      "display_name": "Python 3",
      "name": "python3"
    }
  },
  "nbformat": 4,
  "nbformat_minor": 0
}