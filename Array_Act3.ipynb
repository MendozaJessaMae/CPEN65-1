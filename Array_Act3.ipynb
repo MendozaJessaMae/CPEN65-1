{
  "cells": [
    {
      "cell_type": "markdown",
      "metadata": {
        "id": "view-in-github",
        "colab_type": "text"
      },
      "source": [
        "<a href=\"https://colab.research.google.com/github/MendozaJessaMae/CPEN65-1/blob/main/Array_Act3.ipynb\" target=\"_parent\"><img src=\"https://colab.research.google.com/assets/colab-badge.svg\" alt=\"Open In Colab\"/></a>"
      ]
    },
    {
      "cell_type": "code",
      "source": [
        "#Create a python program that uses array. Insert each character of you full name an display each character of your full name in reverse order\n",
        "full_name = [\"J\",\"e\",\"s\",\"s\",\"a\",\"M\",\"a\",\"e\",\"M\",\"e\",\"n\",\"d\",\"o\",\"z\",\"a\"]\n",
        "a=\",\"\n",
        "full_name.reverse()\n",
        "print(a.join(full_name))\n"
      ],
      "metadata": {
        "colab": {
          "base_uri": "https://localhost:8080/"
        },
        "id": "q4tKfl_vTxda",
        "outputId": "16c29bf7-df81-4562-83f1-cad96ab19cb9"
      },
      "execution_count": 7,
      "outputs": [
        {
          "output_type": "stream",
          "name": "stdout",
          "text": [
            "a,z,o,d,n,e,M,e,a,M,a,s,s,e,J\n"
          ]
        }
      ]
    }
  ],
  "metadata": {
    "colab": {
      "collapsed_sections": [],
      "provenance": [],
      "include_colab_link": true
    },
    "kernelspec": {
      "display_name": "Python 3",
      "name": "python3"
    }
  },
  "nbformat": 4,
  "nbformat_minor": 0
}