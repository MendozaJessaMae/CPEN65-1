{
  "cells": [
    {
      "cell_type": "markdown",
      "metadata": {
        "id": "view-in-github",
        "colab_type": "text"
      },
      "source": [
        "<a href=\"https://colab.research.google.com/github/MendozaJessaMae/CPEN65-1/blob/main/Midterm_Exam.ipynb\" target=\"_parent\"><img src=\"https://colab.research.google.com/assets/colab-badge.svg\" alt=\"Open In Colab\"/></a>"
      ]
    },
    {
      "cell_type": "markdown",
      "source": [
        "1. Write a Python program to create an array of 10 integers and display the array\n",
        "items. Access individual elements through indexes and compute for the sum."
      ],
      "metadata": {
        "id": "79w3wi_uucWJ"
      }
    },
    {
      "cell_type": "code",
      "source": [
        "import array as arr\n",
        "numbers = arr .array('i', [1, 2, 3, 4, 5, 6, 7, 8, 9, 10])\n",
        "for index , val in enumerate (numbers) :\n",
        "  print (index, val)\n",
        "ans = sum(numbers)\n",
        "print(\"Sum of all elements of the array:\" ,ans)"
      ],
      "metadata": {
        "colab": {
          "base_uri": "https://localhost:8080/"
        },
        "id": "HmyFz3ClukqM",
        "outputId": "1fe77831-5983-44cf-89fc-4f60a6fc31b1"
      },
      "execution_count": 25,
      "outputs": [
        {
          "output_type": "stream",
          "name": "stdout",
          "text": [
            "0 1\n",
            "1 2\n",
            "2 3\n",
            "3 4\n",
            "4 5\n",
            "5 6\n",
            "6 7\n",
            "7 8\n",
            "8 9\n",
            "9 10\n",
            "Sum of all elements of the array: 55\n"
          ]
        }
      ]
    },
    {
      "cell_type": "markdown",
      "source": [
        "2. Write a Python program to append a new item to the end of the array. Original\n",
        "array: numbers = [1, 2, 3, 4, 5, 6, 7, 8, 9, 10]"
      ],
      "metadata": {
        "id": "wDxCBIvFvEBb"
      }
    },
    {
      "cell_type": "code",
      "source": [
        "numbers = [1, 2, 3, 4, 5, 6, 7, 8, 9, 10]\n",
        "print(\"Original array:\" ,numbers)\n",
        "numbers.append(11)\n",
        "print(numbers)\n"
      ],
      "metadata": {
        "colab": {
          "base_uri": "https://localhost:8080/"
        },
        "id": "-0RuFY5kvGWC",
        "outputId": "45eddbac-755e-4a60-9623-a991e7c98989"
      },
      "execution_count": 23,
      "outputs": [
        {
          "output_type": "stream",
          "name": "stdout",
          "text": [
            "Original array: [1, 2, 3, 4, 5, 6, 7, 8, 9, 10]\n",
            "[1, 2, 3, 4, 5, 6, 7, 8, 9, 10, 11]\n"
          ]
        }
      ]
    },
    {
      "cell_type": "markdown",
      "source": [
        "3. Write a Python program to insert a new item before the last element in an\n",
        "existing array. Original array: numbers = [1, 2, 3, 4, 5, 6, 7, 8, 9, 10]"
      ],
      "metadata": {
        "id": "4aaLTVJBv2Bi"
      }
    },
    {
      "cell_type": "code",
      "source": [
        "numbers = [1, 2, 3, 4, 5, 6, 7, 8, 9, 10]\n",
        "print(\"Original array:\" ,numbers)\n",
        "numbers.insert(9,11)\n",
        "print(\"Array with inserted element:\" ,numbers)"
      ],
      "metadata": {
        "colab": {
          "base_uri": "https://localhost:8080/"
        },
        "id": "_KkyO_vQv4wB",
        "outputId": "f31916ef-1ba0-4220-b8c6-0cf619a47c61"
      },
      "execution_count": 22,
      "outputs": [
        {
          "output_type": "stream",
          "name": "stdout",
          "text": [
            "Original array: [1, 2, 3, 4, 5, 6, 7, 8, 9, 10]\n",
            "Array with inserted element: [1, 2, 3, 4, 5, 6, 7, 8, 9, 11, 10]\n"
          ]
        }
      ]
    },
    {
      "cell_type": "markdown",
      "source": [
        "4. Write a Python program to reverse the order of the items in the array. Original\n",
        "array: numbers = [1, 2, 3, 4, 5]"
      ],
      "metadata": {
        "id": "KtGqduKhwQGw"
      }
    },
    {
      "cell_type": "code",
      "source": [
        "numbers = ([1,2,3,4,5])\n",
        "print(\"Original array:\" ,numbers)\n",
        "numbers.reverse()\n",
        "print(\"Reverse order: \" ,numbers)"
      ],
      "metadata": {
        "colab": {
          "base_uri": "https://localhost:8080/"
        },
        "id": "Vq-jW9xmwRbC",
        "outputId": "f0d0a0c4-1b69-4f76-e04c-b5393753cdfe"
      },
      "execution_count": 24,
      "outputs": [
        {
          "output_type": "stream",
          "name": "stdout",
          "text": [
            "Original array: [1, 2, 3, 4, 5]\n",
            "Reverse order:  [5, 4, 3, 2, 1]\n"
          ]
        }
      ]
    },
    {
      "cell_type": "markdown",
      "source": [
        "5. Let A be an array of size n ≥ 2 containing integers from 1 to n−1, inclusive, with\n",
        "exactly one repeated. Create an algorithm for finding the integer in A that is\n",
        "repeated."
      ],
      "metadata": {
        "id": "gz8Pyvd1w_c2"
      }
    },
    {
      "cell_type": "code",
      "source": [
        "def findRepeating(arr, A):\n",
        "    for i in range(N):\n",
        "        for j in range(i + 1, A):\n",
        "            if (arr[i] == arr[j]):\n",
        "                return arr[i]\n",
        " \n",
        " \n",
        "if __name__ == \"__main__\":\n",
        "  arr = [9, 8, 2, 6, 1, 8, 5, 3, 4, 7]\n",
        "  A = len(arr)\n",
        " \n",
        "  print(findRepeating(arr, A))"
      ],
      "metadata": {
        "colab": {
          "base_uri": "https://localhost:8080/"
        },
        "id": "E3iAYhHnJRYK",
        "outputId": "6f87842b-8633-4b88-db8e-d53e689dd75f"
      },
      "execution_count": 28,
      "outputs": [
        {
          "output_type": "stream",
          "name": "stdout",
          "text": [
            "8\n"
          ]
        }
      ]
    },
    {
      "cell_type": "markdown",
      "source": [
        "Algorithm for finding the integer in A that is repeated.\n",
        "Step 1: Start\n",
        "Step 2: Input A as a variable of the array\n",
        "Step 3: Sort the given array\n",
        "Step 4: Traverse the array and  compare the array elements with its index\n",
        "Step 5: Otherwise, the array does not contain duplicates from 1 to n-1, In this case, return -1  \n",
        "Step 6: End\n",
        "\n",
        "\n",
        "\n",
        "\n"
      ],
      "metadata": {
        "id": "dJ2YGF5MbcKR"
      }
    }
  ],
  "metadata": {
    "colab": {
      "provenance": [],
      "include_colab_link": true
    },
    "kernelspec": {
      "display_name": "Python 3",
      "name": "python3"
    }
  },
  "nbformat": 4,
  "nbformat_minor": 0
}